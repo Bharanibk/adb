{
 "cells": [
  {
   "cell_type": "code",
   "execution_count": 0,
   "metadata": {
    "application/vnd.databricks.v1+cell": {
     "cellMetadata": {
      "byteLimit": 2048000,
      "rowLimit": 10000
     },
     "inputWidgets": {},
     "nuid": "7b0f8467-874b-491a-96d9-9afdeac32399",
     "showTitle": false,
     "tableResultSettingsMap": {},
     "title": ""
    }
   },
   "outputs": [],
   "source": [
    "# Create widgets for parameters (these can be passed from Azure DevOps or Jobs)\n",
    "dbutils.widgets.text(\"storage_account_name\", \"shared5005\", \"Storage Account Name\")\n",
    "dbutils.widgets.text(\"container_name\", \"emp\", \"Container Name\")\n",
    "dbutils.widgets.text(\"environment\", \"dev\", \"Environment (dev/stage/prod)\")\n",
    "\n",
    "# Get parameter values\n",
    "storage_account_name = dbutils.widgets.get(\"storage_account_name\")\n",
    "container_name = dbutils.widgets.get(\"container_name\")\n",
    "environment = dbutils.widgets.get(\"environment\")\n",
    "\n",
    "storage_account_key = dbutils.secrets.get(scope=\"storage-secrets\", key=\"storage-account-key\")\n",
    "\n",
    "# Configure Azure Storage Access Key\n",
    "spark.conf.set(\n",
    "    f\"fs.azure.account.key.{storage_account_name}.dfs.core.windows.net\",\n",
    "    storage_account_key\n",
    ")\n",
    "\n",
    "# Define paths and table name\n",
    "bronze_path = f\"abfss://{container_name}@{storage_account_name}.dfs.core.windows.net/bronze/employee\"\n",
    "table_name = f\"employee_bronze_{environment}\"\n",
    "\n",
    "print(f\"Starting cleanup for environment: {environment}\")\n",
    "print(f\"Bronze path: {bronze_path}\")\n",
    "print(f\"Table name: {table_name}\")\n",
    "\n",
    "# Drop table if exists\n",
    "print(f\"\\n1. Dropping table {table_name}...\")\n",
    "spark.sql(f\"DROP TABLE IF EXISTS {table_name}\")\n",
    "print(f\"✓ Table {table_name} dropped\")\n",
    "\n",
    "# Delete files in bronze folder\n",
    "print(f\"\\n2. Deleting files in bronze/employee folder...\")\n",
    "try:\n",
    "    dbutils.fs.rm(bronze_path, recurse=True)\n",
    "    print(f\"✓ Files deleted from {bronze_path}\")\n",
    "except Exception as e:\n",
    "    print(f\"Note: {str(e)} (folder may not exist yet, which is fine)\")\n",
    "\n",
    "print(\"\\n✓ Cleanup completed successfully!\")"
   ]
  }
 ],
 "metadata": {
  "application/vnd.databricks.v1+notebook": {
   "computePreferences": null,
   "dashboards": [],
   "environmentMetadata": {
    "base_environment": "",
    "environment_version": "4"
   },
   "inputWidgetPreferences": null,
   "language": "python",
   "notebookMetadata": {
    "pythonIndentUnit": 4
   },
   "notebookName": "cleanupBronze",
   "widgets": {
    "container_name": {
     "currentValue": "emp",
     "nuid": "c6a33f03-c8d2-4f97-b5c3-91af98b8cd73",
     "typedWidgetInfo": {
      "autoCreated": false,
      "defaultValue": "emp",
      "label": "Container Name",
      "name": "container_name",
      "options": {
       "widgetDisplayType": "Text",
       "validationRegex": null
      },
      "parameterDataType": "String"
     },
     "widgetInfo": {
      "widgetType": "text",
      "defaultValue": "emp",
      "label": "Container Name",
      "name": "container_name",
      "options": {
       "widgetType": "text",
       "autoCreated": false,
       "validationRegex": null
      }
     }
    },
    "environment": {
     "currentValue": "dev",
     "nuid": "82104599-f780-4a99-8086-904676cdadbf",
     "typedWidgetInfo": {
      "autoCreated": false,
      "defaultValue": "dev",
      "label": "Environment",
      "name": "environment",
      "options": {
       "widgetDisplayType": "Text",
       "validationRegex": null
      },
      "parameterDataType": "String"
     },
     "widgetInfo": {
      "widgetType": "text",
      "defaultValue": "dev",
      "label": "Environment",
      "name": "environment",
      "options": {
       "widgetType": "text",
       "autoCreated": false,
       "validationRegex": null
      }
     }
    },
    "storage_account_name": {
     "currentValue": "shared5005",
     "nuid": "0eb2abf4-c92e-455b-a56e-d1625601d504",
     "typedWidgetInfo": {
      "autoCreated": false,
      "defaultValue": "shared5005",
      "label": "Storage Account Name",
      "name": "storage_account_name",
      "options": {
       "widgetDisplayType": "Text",
       "validationRegex": null
      },
      "parameterDataType": "String"
     },
     "widgetInfo": {
      "widgetType": "text",
      "defaultValue": "shared5005",
      "label": "Storage Account Name",
      "name": "storage_account_name",
      "options": {
       "widgetType": "text",
       "autoCreated": false,
       "validationRegex": null
      }
     }
    }
   }
  },
  "language_info": {
   "name": "python"
  }
 },
 "nbformat": 4,
 "nbformat_minor": 0
}
