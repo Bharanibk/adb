{
 "cells": [
  {
   "cell_type": "code",
   "execution_count": 0,
   "metadata": {
    "application/vnd.databricks.v1+cell": {
     "cellMetadata": {
      "byteLimit": 2048000,
      "rowLimit": 10000
     },
     "inputWidgets": {},
     "nuid": "1e1e0a9e-ffc1-4084-9859-7b19ea06d3e5",
     "showTitle": false,
     "tableResultSettingsMap": {},
     "title": ""
    }
   },
   "outputs": [],
   "source": [
    "# Remove all widgets and clear variables\n",
    "dbutils.widgets.removeAll()\n",
    "\n",
    "# Clear the variables from memory\n",
    "try:\n",
    "    del storage_account_name, container_name, sas_token, environment\n",
    "except:\n",
    "    pass\n",
    "\n",
    "print(\"Widgets and variables cleared!\")"
   ]
  },
  {
   "cell_type": "code",
   "execution_count": 0,
   "metadata": {
    "application/vnd.databricks.v1+cell": {
     "cellMetadata": {
      "byteLimit": 2048000,
      "rowLimit": 10000
     },
     "inputWidgets": {},
     "nuid": "3a41faf7-d7f9-402d-a665-5ab7bb7356d3",
     "showTitle": false,
     "tableResultSettingsMap": {},
     "title": ""
    }
   },
   "outputs": [],
   "source": [
    "# Create widgets for parameters (these can be passed from Azure DevOps or Jobs)\n",
    "dbutils.widgets.text(\"storage_account_name\", \"shared5005\", \"Storage Account Name\")\n",
    "dbutils.widgets.text(\"container_name\", \"emp\", \"Container Name\")\n",
    "dbutils.widgets.text(\"environment\", \"dev\", \"Environment (dev/stage/prod)\")\n",
    "\n",
    "# Get parameter values\n",
    "storage_account_name = dbutils.widgets.get(\"storage_account_name\")\n",
    "container_name = dbutils.widgets.get(\"container_name\")\n",
    "environment = dbutils.widgets.get(\"environment\")\n",
    "\n",
    "storage_account_key = dbutils.secrets.get(scope=\"storage-secrets\", key=\"storage-account-key\")\n",
    "print(storage_account_key)\n",
    "# Configure Azure Storage Access Key\n",
    "spark.conf.set(\n",
    "    f\"fs.azure.account.key.{storage_account_name}.dfs.core.windows.net\",\n",
    "    storage_account_key\n",
    ")\n",
    "\n",
    "print(f\"Environments: {environment}\")\n",
    "print(f\"Storage access configured for: {storage_account_name}\")"
   ]
  },
  {
   "cell_type": "code",
   "execution_count": 0,
   "metadata": {
    "application/vnd.databricks.v1+cell": {
     "cellMetadata": {
      "byteLimit": 2048000,
      "rowLimit": 10000
     },
     "inputWidgets": {},
     "nuid": "d16fdfab-293a-42d5-91ef-d7ed0461a26e",
     "showTitle": false,
     "tableResultSettingsMap": {},
     "title": ""
    }
   },
   "outputs": [],
   "source": [
    "# Import required libraries\n",
    "from pyspark.sql.functions import col\n",
    "from pyspark.sql.window import Window\n",
    "from pyspark.sql.functions import row_number, desc\n",
    "\n",
    "# Define ABFS paths using parameters\n",
    "raw_path = f\"abfss://{container_name}@{storage_account_name}.dfs.core.windows.net/raw/employee/*/*.csv\"\n",
    "bronze_path = f\"abfss://{container_name}@{storage_account_name}.dfs.core.windows.net/bronze/employee\"\n",
    "table_name = f\"employee_bronze_{environment}\"  # Environment-specific table name\n",
    "\n",
    "print(f\"Raw path: {raw_path}\")\n",
    "print(f\"Bronze path: {bronze_path}\")\n",
    "print(f\"Table name: {table_name}\")\n",
    "\n",
    "# Read CSV from raw folder\n",
    "print(\"Reading CSV files from raw/employee folder...\")\n",
    "df_raw = spark.read.format(\"csv\") \\\n",
    "    .option(\"header\", \"true\") \\\n",
    "    .option(\"inferSchema\", \"true\") \\\n",
    "    .option(\"recursiveFileLookup\", \"true\") \\\n",
    "    .load(raw_path)\n",
    "\n",
    "print(f\"Total records read: {df_raw.count()}\")\n",
    "df_raw.show(5)"
   ]
  },
  {
   "cell_type": "code",
   "execution_count": 0,
   "metadata": {
    "application/vnd.databricks.v1+cell": {
     "cellMetadata": {
      "byteLimit": 2048000,
      "rowLimit": 10000
     },
     "inputWidgets": {},
     "nuid": "752db5c0-3694-4d13-8384-12afcdb0130c",
     "showTitle": false,
     "tableResultSettingsMap": {},
     "title": ""
    }
   },
   "outputs": [],
   "source": [
    "# Deduplicate based on EmployeeID, keeping the latest record by LastModifiedDate\n",
    "print(\"Deduplicating records...\")\n",
    "window_spec = Window.partitionBy(\"EmployeeID\").orderBy(desc(\"LastModifiedDate\"))\n",
    "df_deduped = df_raw.withColumn(\"row_num\", row_number().over(window_spec)) \\\n",
    "    .filter(col(\"row_num\") == 1) \\\n",
    "    .drop(\"row_num\")\n",
    "print(f\"Records after deduplication: {df_deduped.count()}\")"
   ]
  },
  {
   "cell_type": "code",
   "execution_count": 0,
   "metadata": {
    "application/vnd.databricks.v1+cell": {
     "cellMetadata": {
      "byteLimit": 2048000,
      "rowLimit": 10000
     },
     "inputWidgets": {},
     "nuid": "bd9dc935-9c2c-4cbd-b7d0-9d3180beac2d",
     "showTitle": false,
     "tableResultSettingsMap": {},
     "title": ""
    }
   },
   "outputs": [],
   "source": [
    "# Write to bronze folder as Delta format\n",
    "print(\"Writing to bronze/employee folder as Delta...\")\n",
    "df_deduped.write.format(\"delta\") \\\n",
    "    .mode(\"overwrite\") \\\n",
    "    .save(bronze_path)"
   ]
  },
  {
   "cell_type": "code",
   "execution_count": 0,
   "metadata": {
    "application/vnd.databricks.v1+cell": {
     "cellMetadata": {
      "byteLimit": 2048000,
      "rowLimit": 10000
     },
     "inputWidgets": {},
     "nuid": "f6a5fde2-f91d-4a95-90f7-138583c54bd0",
     "showTitle": false,
     "tableResultSettingsMap": {},
     "title": ""
    }
   },
   "outputs": [],
   "source": [
    "# Create or replace table\n",
    "print(f\"Creating table {table_name}...\")\n",
    "spark.sql(f\"CREATE TABLE IF NOT EXISTS {table_name} USING DELTA LOCATION '{bronze_path}'\")\n",
    "\n",
    "print(\"Process completed successfully!\")"
   ]
  },
  {
   "cell_type": "code",
   "execution_count": 0,
   "metadata": {
    "application/vnd.databricks.v1+cell": {
     "cellMetadata": {
      "byteLimit": 2048000,
      "rowLimit": 10000
     },
     "inputWidgets": {},
     "nuid": "3fddcf26-2dbb-47e6-be7c-e6788ad6b262",
     "showTitle": false,
     "tableResultSettingsMap": {},
     "title": ""
    }
   },
   "outputs": [],
   "source": [
    "%%sql\n",
    "\n",
    "select count(*) from employee_bronze_dev"
   ]
  }
 ],
 "metadata": {
  "application/vnd.databricks.v1+notebook": {
   "computePreferences": null,
   "dashboards": [],
   "environmentMetadata": {
    "base_environment": "",
    "environment_version": "4"
   },
   "inputWidgetPreferences": null,
   "language": "python",
   "notebookMetadata": {
    "pythonIndentUnit": 4
   },
   "notebookName": "employeeRaw2Bronze",
   "widgets": {
    "container_name": {
     "currentValue": "emp",
     "nuid": "d962e87e-eea4-468a-a6b0-6dcc16aeaa14",
     "typedWidgetInfo": {
      "autoCreated": false,
      "defaultValue": "emp",
      "label": "Container Name",
      "name": "container_name",
      "options": {
       "widgetDisplayType": "Text",
       "validationRegex": null
      },
      "parameterDataType": "String"
     },
     "widgetInfo": {
      "widgetType": "text",
      "defaultValue": "emp",
      "label": "Container Name",
      "name": "container_name",
      "options": {
       "widgetType": "text",
       "autoCreated": null,
       "validationRegex": null
      }
     }
    },
    "environment": {
     "currentValue": "dev",
     "nuid": "98bb947a-2753-436d-8a26-4a2a5a1d0c44",
     "typedWidgetInfo": {
      "autoCreated": false,
      "defaultValue": "dev",
      "label": "Environment (dev/stage/prod)",
      "name": "environment",
      "options": {
       "widgetDisplayType": "Text",
       "validationRegex": null
      },
      "parameterDataType": "String"
     },
     "widgetInfo": {
      "widgetType": "text",
      "defaultValue": "dev",
      "label": "Environment (dev/stage/prod)",
      "name": "environment",
      "options": {
       "widgetType": "text",
       "autoCreated": null,
       "validationRegex": null
      }
     }
    },
    "storage_account_name": {
     "currentValue": "shared5005",
     "nuid": "fe301e91-26cf-4511-b941-09fbaf60409c",
     "typedWidgetInfo": {
      "autoCreated": false,
      "defaultValue": "shared5005",
      "label": "Storage Account Name",
      "name": "storage_account_name",
      "options": {
       "widgetDisplayType": "Text",
       "validationRegex": null
      },
      "parameterDataType": "String"
     },
     "widgetInfo": {
      "widgetType": "text",
      "defaultValue": "shared5005",
      "label": "Storage Account Name",
      "name": "storage_account_name",
      "options": {
       "widgetType": "text",
       "autoCreated": null,
       "validationRegex": null
      }
     }
    }
   }
  },
  "language_info": {
   "name": "python"
  }
 },
 "nbformat": 4,
 "nbformat_minor": 0
}
